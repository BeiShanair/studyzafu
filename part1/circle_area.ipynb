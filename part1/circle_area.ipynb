{
 "cells": [
  {
   "cell_type": "code",
   "execution_count": 1,
   "id": "initial_id",
   "metadata": {
    "collapsed": true,
    "ExecuteTime": {
     "end_time": "2024-02-29T02:21:56.454519Z",
     "start_time": "2024-02-29T02:21:53.599513Z"
    }
   },
   "outputs": [],
   "source": [
    "r = eval(input(\"请输入圆的半径: \"))"
   ]
  },
  {
   "cell_type": "code",
   "outputs": [],
   "source": [
    "area = 3.14 * r * r"
   ],
   "metadata": {
    "collapsed": false,
    "ExecuteTime": {
     "end_time": "2024-02-29T02:21:58.720918Z",
     "start_time": "2024-02-29T02:21:58.709168Z"
    }
   },
   "id": "3f1c1bddcbbe5891",
   "execution_count": 2
  },
  {
   "cell_type": "code",
   "outputs": [
    {
     "name": "stdout",
     "output_type": "stream",
     "text": [
      "圆的面积为: 78.5\n"
     ]
    }
   ],
   "source": [
    "print(\"圆的面积为:\", area)"
   ],
   "metadata": {
    "collapsed": false,
    "ExecuteTime": {
     "end_time": "2024-02-29T02:22:00.157915Z",
     "start_time": "2024-02-29T02:22:00.143702Z"
    }
   },
   "id": "b6131be218f01813",
   "execution_count": 3
  },
  {
   "cell_type": "code",
   "outputs": [],
   "source": [],
   "metadata": {
    "collapsed": false
   },
   "id": "1964c5b82ad6b65e"
  }
 ],
 "metadata": {
  "kernelspec": {
   "display_name": "Python 3",
   "language": "python",
   "name": "python3"
  },
  "language_info": {
   "codemirror_mode": {
    "name": "ipython",
    "version": 2
   },
   "file_extension": ".py",
   "mimetype": "text/x-python",
   "name": "python",
   "nbconvert_exporter": "python",
   "pygments_lexer": "ipython2",
   "version": "2.7.6"
  }
 },
 "nbformat": 4,
 "nbformat_minor": 5
}
