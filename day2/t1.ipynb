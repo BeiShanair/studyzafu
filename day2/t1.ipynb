{
 "cells": [
  {
   "cell_type": "code",
   "execution_count": 1,
   "id": "initial_id",
   "metadata": {
    "ExecuteTime": {
     "end_time": "2024-03-07T01:56:26.831797Z",
     "start_time": "2024-03-07T01:56:17.969238Z"
    }
   },
   "outputs": [
    {
     "name": "stdin",
     "output_type": "stream",
     "text": [
      "请输入语文成绩:  95\n",
      "请输入数学成绩:  98\n",
      "请输入英语成绩:  94\n"
     ]
    },
    {
     "name": "stdout",
     "output_type": "stream",
     "text": [
      "总分为 287\n",
      "平均分为 95.66666666666667\n",
      "最高分为 98\n",
      "最低分为 94\n",
      "最终总评成绩为 95.7\n"
     ]
    }
   ],
   "source": [
    "# 输入三门课的成绩\n",
    "chinese = eval(input(\"请输入语文成绩: \"))\n",
    "math = eval(input(\"请输入数学成绩: \"))\n",
    "english = eval(input(\"请输入英语成绩: \"))\n",
    "\n",
    "# 计算总分和平均分\n",
    "total = chinese + math + english\n",
    "average = total / 3\n",
    "\n",
    "# 计算最高分和最低分\n",
    "min_score = min(chinese, math, english)\n",
    "max_score = max(chinese, math, english)\n",
    "\n",
    "# 计算最终总评成绩\n",
    "final_score = chinese * 0.5 + math * 0.3 + english * 0.2\n",
    "\n",
    "# 输出结果\n",
    "print(\"总分为\", total)\n",
    "print(\"平均分为\", average)\n",
    "print(\"最高分为\", max_score)\n",
    "print(\"最低分为\", min_score)\n",
    "print(\"最终总评成绩为\", final_score)"
   ]
  },
  {
   "cell_type": "code",
   "execution_count": null,
   "id": "2a1620699d7fc62a",
   "metadata": {
    "collapsed": false,
    "jupyter": {
     "outputs_hidden": false
    }
   },
   "outputs": [],
   "source": []
  }
 ],
 "metadata": {
  "kernelspec": {
   "display_name": "Python 3 (ipykernel)",
   "language": "python",
   "name": "python3"
  },
  "language_info": {
   "codemirror_mode": {
    "name": "ipython",
    "version": 3
   },
   "file_extension": ".py",
   "mimetype": "text/x-python",
   "name": "python",
   "nbconvert_exporter": "python",
   "pygments_lexer": "ipython3",
   "version": "3.10.6"
  }
 },
 "nbformat": 4,
 "nbformat_minor": 5
}
