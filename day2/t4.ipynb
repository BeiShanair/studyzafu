{
 "cells": [
  {
   "cell_type": "code",
   "execution_count": 2,
   "id": "initial_id",
   "metadata": {
    "ExecuteTime": {
     "end_time": "2024-03-09T07:30:43.539556Z",
     "start_time": "2024-03-09T07:30:40.086820Z"
    }
   },
   "outputs": [
    {
     "name": "stdin",
     "output_type": "stream",
     "text": [
      "请输入字符串： 1222646\n"
     ]
    },
    {
     "name": "stdout",
     "output_type": "stream",
     "text": [
      "不是回文\n"
     ]
    }
   ],
   "source": [
    "# 判断一个字符串是否是回文\n",
    "m = input(\"请输入字符串：\")\n",
    "if m == m[::-1]:\n",
    "    print(\"是回文\")\n",
    "else:\n",
    "    print(\"不是回文\")"
   ]
  },
  {
   "cell_type": "code",
   "execution_count": null,
   "id": "8559c7cdb3f5552b",
   "metadata": {
    "collapsed": false,
    "jupyter": {
     "outputs_hidden": false
    }
   },
   "outputs": [],
   "source": []
  }
 ],
 "metadata": {
  "kernelspec": {
   "display_name": "Python 3 (ipykernel)",
   "language": "python",
   "name": "python3"
  },
  "language_info": {
   "codemirror_mode": {
    "name": "ipython",
    "version": 3
   },
   "file_extension": ".py",
   "mimetype": "text/x-python",
   "name": "python",
   "nbconvert_exporter": "python",
   "pygments_lexer": "ipython3",
   "version": "3.10.6"
  }
 },
 "nbformat": 4,
 "nbformat_minor": 5
}
