{
 "cells": [
  {
   "cell_type": "code",
   "execution_count": 1,
   "id": "initial_id",
   "metadata": {
    "collapsed": true,
    "ExecuteTime": {
     "end_time": "2024-03-09T07:53:08.127457Z",
     "start_time": "2024-03-09T07:52:19.476876Z"
    }
   },
   "outputs": [
    {
     "name": "stdout",
     "output_type": "stream",
     "text": [
      "出生年月日为 1999 年 12 月 31 日\n",
      "性别:女\n",
      "加密后的身份证号码为 330501********0000\n"
     ]
    }
   ],
   "source": [
    "# 输入身份证号码\n",
    "id_card_number = input(\"请输入身份证号码：\")\n",
    "\n",
    "# 截取身份证号码中的出生年月日\n",
    "year_number = id_card_number[6:10]\n",
    "month_number = id_card_number[10:12]\n",
    "day_number = id_card_number[12:14]\n",
    "\n",
    "# 输出出生年月日\n",
    "print(\"出生年月日为\", year_number, \"年\", month_number, \"月\", day_number, \"日\")\n",
    "\n",
    "# 判断性别\n",
    "sex_number = eval(id_card_number[16:17]) % 2\n",
    "if sex_number == 0:\n",
    "    print(\"性别:女\")\n",
    "else:\n",
    "    print(\"性别:男\")\n",
    "\n",
    "# 加密身份证号码\n",
    "encrypted_id_card_number = id_card_number[:6] + \"*\" * 8 + id_card_number[14:]\n",
    "print(\"加密后的身份证号码为\", encrypted_id_card_number)\n"
   ]
  },
  {
   "cell_type": "code",
   "outputs": [],
   "source": [],
   "metadata": {
    "collapsed": false
   },
   "id": "9e504174a33e3aef"
  }
 ],
 "metadata": {
  "kernelspec": {
   "display_name": "Python 3",
   "language": "python",
   "name": "python3"
  },
  "language_info": {
   "codemirror_mode": {
    "name": "ipython",
    "version": 2
   },
   "file_extension": ".py",
   "mimetype": "text/x-python",
   "name": "python",
   "nbconvert_exporter": "python",
   "pygments_lexer": "ipython2",
   "version": "2.7.6"
  }
 },
 "nbformat": 4,
 "nbformat_minor": 5
}
