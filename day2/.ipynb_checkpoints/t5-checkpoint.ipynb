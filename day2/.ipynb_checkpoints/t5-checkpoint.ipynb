{
 "cells": [
  {
   "cell_type": "code",
   "execution_count": 1,
   "id": "initial_id",
   "metadata": {
    "collapsed": true,
    "ExecuteTime": {
     "end_time": "2024-03-09T07:39:09.345958Z",
     "start_time": "2024-03-09T07:39:07.215289Z"
    }
   },
   "outputs": [
    {
     "name": "stdout",
     "output_type": "stream",
     "text": [
      "星期一\n"
     ]
    }
   ],
   "source": [
    "# 输入一个表示星期的数字（1~7），输出对应的星期字符串名称\n",
    "m = eval(input(\"请输入一个表示星期的数字（1~7）: \"))\n",
    "list1 = \"星期一星期二星期三星期四星期五星期六星期日\"\n",
    "index = (m - 1) * 3\n",
    "print(list1[index:index+3])\n"
   ]
  },
  {
   "cell_type": "code",
   "outputs": [],
   "source": [],
   "metadata": {
    "collapsed": false
   },
   "id": "40a8302e730529fa"
  }
 ],
 "metadata": {
  "kernelspec": {
   "display_name": "Python 3",
   "language": "python",
   "name": "python3"
  },
  "language_info": {
   "codemirror_mode": {
    "name": "ipython",
    "version": 2
   },
   "file_extension": ".py",
   "mimetype": "text/x-python",
   "name": "python",
   "nbconvert_exporter": "python",
   "pygments_lexer": "ipython2",
   "version": "2.7.6"
  }
 },
 "nbformat": 4,
 "nbformat_minor": 5
}
