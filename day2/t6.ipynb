{
 "cells": [
  {
   "cell_type": "code",
   "execution_count": 1,
   "id": "initial_id",
   "metadata": {
    "ExecuteTime": {
     "end_time": "2024-03-09T07:44:31.865239Z",
     "start_time": "2024-03-09T07:44:26.565255Z"
    }
   },
   "outputs": [
    {
     "name": "stdin",
     "output_type": "stream",
     "text": [
      "请输入文件路径： D:\\test1\\.venv\\studyzafu\\Scripts\\python.exe\n"
     ]
    },
    {
     "name": "stdout",
     "output_type": "stream",
     "text": [
      "文件： python.exe\n",
      "主文件名： python\n",
      "拓展名： exe\n",
      "文件路径： D:\\test1\\.venv\\studyzafu\\Scripts\n"
     ]
    }
   ],
   "source": [
    "# 输入一个文件路径\n",
    "file_path = input(\"请输入文件路径：\")\n",
    "\n",
    "# 从文件路径中提取文件名、主文件名、拓展名、文件路径\n",
    "file_name = file_path.split(\"\\\\\")[-1]\n",
    "file_main_name = file_name.split(\".\")[0]\n",
    "\n",
    "file_type = file_name.split(\".\")[-1]\n",
    "\n",
    "file_path2 = file_path.replace(\"\\\\\" + file_name, \"\")\n",
    "\n",
    "# 输出结果\n",
    "print(\"文件：\", file_name)\n",
    "print(\"主文件名：\", file_main_name)\n",
    "print(\"拓展名：\", file_type)\n",
    "print(\"文件路径：\", file_path2)"
   ]
  },
  {
   "cell_type": "code",
   "execution_count": null,
   "id": "6d505a54dbbcb87a",
   "metadata": {
    "collapsed": false,
    "jupyter": {
     "outputs_hidden": false
    }
   },
   "outputs": [],
   "source": []
  }
 ],
 "metadata": {
  "kernelspec": {
   "display_name": "Python 3 (ipykernel)",
   "language": "python",
   "name": "python3"
  },
  "language_info": {
   "codemirror_mode": {
    "name": "ipython",
    "version": 3
   },
   "file_extension": ".py",
   "mimetype": "text/x-python",
   "name": "python",
   "nbconvert_exporter": "python",
   "pygments_lexer": "ipython3",
   "version": "3.10.6"
  }
 },
 "nbformat": 4,
 "nbformat_minor": 5
}
