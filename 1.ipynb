{
 "cells": [
  {
   "cell_type": "code",
   "execution_count": 1,
   "id": "initial_id",
   "metadata": {
    "collapsed": true,
    "ExecuteTime": {
     "end_time": "2024-02-29T02:24:51.589077Z",
     "start_time": "2024-02-29T02:23:53.026110Z"
    }
   },
   "outputs": [],
   "source": [
    "import turtle\n",
    "turtle.pensize(3)\n",
    "turtle.pencolor(\"blue\")\n",
    "turtle.circle(50)\n",
    "\n",
    "turtle.penup()\n",
    "turtle.forward(110)\n",
    "turtle.pencolor(\"black\")\n",
    "turtle.pendown()\n",
    "turtle.circle(50)\n",
    "\n",
    "turtle.penup()\n",
    "turtle.forward(110)\n",
    "turtle.pencolor(\"red\")\n",
    "turtle.pendown()\n",
    "turtle.circle(50)\n",
    "\n",
    "turtle.penup()\n",
    "turtle.backward(170)\n",
    "turtle.right(90)\n",
    "turtle.forward(50)\n",
    "turtle.setheading(0)\n",
    "turtle.pencolor(\"yellow\")\n",
    "turtle.pendown()\n",
    "turtle.circle(50)\n",
    "\n",
    "turtle.penup()\n",
    "turtle.forward(110)\n",
    "turtle.pencolor(\"green\")\n",
    "turtle.pendown()\n",
    "turtle.circle(50)\n",
    "\n",
    "turtle.mainloop()"
   ]
  },
  {
   "cell_type": "code",
   "outputs": [],
   "source": [],
   "metadata": {
    "collapsed": false
   },
   "id": "5207ebad5d6a686d"
  }
 ],
 "metadata": {
  "kernelspec": {
   "display_name": "Python 3",
   "language": "python",
   "name": "python3"
  },
  "language_info": {
   "codemirror_mode": {
    "name": "ipython",
    "version": 2
   },
   "file_extension": ".py",
   "mimetype": "text/x-python",
   "name": "python",
   "nbconvert_exporter": "python",
   "pygments_lexer": "ipython2",
   "version": "2.7.6"
  }
 },
 "nbformat": 4,
 "nbformat_minor": 5
}
