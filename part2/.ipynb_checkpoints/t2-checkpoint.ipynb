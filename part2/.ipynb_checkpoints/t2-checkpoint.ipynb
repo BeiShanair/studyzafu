{
 "cells": [
  {
   "cell_type": "code",
   "execution_count": 1,
   "id": "initial_id",
   "metadata": {
    "collapsed": true,
    "ExecuteTime": {
     "end_time": "2024-03-07T02:00:27.807311Z",
     "start_time": "2024-03-07T02:00:25.565494Z"
    }
   },
   "outputs": [
    {
     "name": "stdout",
     "output_type": "stream",
     "text": [
      "各位数字之和为 6\n"
     ]
    }
   ],
   "source": [
    "# 输入一个三位整数\n",
    "m = eval(input(\"请输入一个三位整数: \"))\n",
    "a = m // 100\n",
    "b = m % 100 // 10\n",
    "c = m % 10\n",
    "\n",
    "# 求各位数字之和\n",
    "sum_num = a + b + c\n",
    "print(\"各位数字之和为\", sum_num)\n"
   ]
  },
  {
   "cell_type": "code",
   "outputs": [],
   "source": [],
   "metadata": {
    "collapsed": false
   },
   "id": "533c28c552bae4d2"
  }
 ],
 "metadata": {
  "kernelspec": {
   "display_name": "Python 3",
   "language": "python",
   "name": "python3"
  },
  "language_info": {
   "codemirror_mode": {
    "name": "ipython",
    "version": 2
   },
   "file_extension": ".py",
   "mimetype": "text/x-python",
   "name": "python",
   "nbconvert_exporter": "python",
   "pygments_lexer": "ipython2",
   "version": "2.7.6"
  }
 },
 "nbformat": 4,
 "nbformat_minor": 5
}
